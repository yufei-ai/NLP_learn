{
 "cells": [
  {
   "cell_type": "markdown",
   "metadata": {},
   "source": [
    "Word Tokenisation\n",
    "============"
   ]
  },
  {
   "cell_type": "code",
   "execution_count": null,
   "metadata": {
    "collapsed": false
   },
   "outputs": [],
   "source": [
    "text = \"The quick brown fox jumped over the lazy dog\"\n",
    "\n",
    "tokens = text.split()\n",
    "print(tokens)"
   ]
  },
  {
   "cell_type": "code",
   "execution_count": null,
   "metadata": {
    "collapsed": false
   },
   "outputs": [],
   "source": [
    "text = \"The quick brown fox, and an Oxford comma\"\n",
    "\n",
    "tokens = text.split()\n",
    "print(tokens)"
   ]
  },
  {
   "cell_type": "code",
   "execution_count": null,
   "metadata": {
    "collapsed": false
   },
   "outputs": [],
   "source": [
    "from nltk.tokenize import word_tokenize\n",
    "\n",
    "text = \"The quick brown fox, and an Oxford comma\"\n",
    "\n",
    "tokens = word_tokenize(text)\n",
    "print(tokens)"
   ]
  },
  {
   "cell_type": "code",
   "execution_count": null,
   "metadata": {
    "collapsed": false
   },
   "outputs": [],
   "source": [
    "from nltk.tokenize import word_tokenize\n",
    "\n",
    "text = \"Tweet about #NLProc @PyConUK :)\"\n",
    "\n",
    "tokens = word_tokenize(text)\n",
    "print(tokens)"
   ]
  },
  {
   "cell_type": "code",
   "execution_count": null,
   "metadata": {
    "collapsed": false
   },
   "outputs": [],
   "source": [
    "from nltk.tokenize import TweetTokenizer\n",
    "\n",
    "text = \"Tweet about #NLProc @PyConUK :)\"\n",
    "\n",
    "tokenizer = TweetTokenizer()\n",
    "tokens = tokenizer.tokenize(text)\n",
    "print(tokens)"
   ]
  },
  {
   "cell_type": "code",
   "execution_count": null,
   "metadata": {
    "collapsed": false
   },
   "outputs": [],
   "source": [
    "from nltk.tokenize import TweetTokenizer\n",
    "text = \"Tweet about #NLProc @PyConUK :)\"\n",
    "\n",
    "tokenizer = TweetTokenizer(strip_handles=True)\n",
    "tokens = tokenizer.tokenize(text)\n",
    "print(tokens)"
   ]
  },
  {
   "cell_type": "code",
   "execution_count": null,
   "metadata": {
    "collapsed": false
   },
   "outputs": [],
   "source": [
    "from nltk.tokenize import word_tokenize\n",
    "text = \"How about currencies (like £100,000.00) and dates (like 19th September)\"\n",
    "\n",
    "tokens = word_tokenize(text)\n",
    "print(tokens)"
   ]
  },
  {
   "cell_type": "markdown",
   "metadata": {},
   "source": [
    "Stemming\n",
    "====="
   ]
  },
  {
   "cell_type": "code",
   "execution_count": null,
   "metadata": {
    "collapsed": false
   },
   "outputs": [],
   "source": [
    "from nltk.stem import PorterStemmer\n",
    "\n",
    "s = PorterStemmer()\n",
    "print(s.stem('Having'))\n",
    "print(s.stem('Have'))\n",
    "print(s.stem('Had'))\n",
    "\n",
    "print(s.stem('Fishing'))\n",
    "print(s.stem('Fish'))\n",
    "print(s.stem('Fisher'))\n",
    "print(s.stem('Fishes'))\n",
    "print(s.stem('Fished'))"
   ]
  },
  {
   "cell_type": "markdown",
   "metadata": {},
   "source": [
    "Lemmatisation\n",
    "=====\n",
    "\n",
    "Lemmatisation is similar to stemming, as it produces a normalised version of the input word.\n",
    "\n",
    "The output is a lemma, i.e. a proper word (different from stemming)\n",
    "\n",
    "The input word is lemmatised according to its Part-of-Speech (POS) tag, i.e. verb, noun, etc."
   ]
  },
  {
   "cell_type": "code",
   "execution_count": null,
   "metadata": {
    "collapsed": false
   },
   "outputs": [],
   "source": [
    "# You'll need the \"wordnet\" package from NLTK data\n",
    "# python -m nltk.downloader wordnet\n",
    "from nltk.stem import WordNetLemmatizer\n",
    "\n",
    "s = WordNetLemmatizer()\n",
    "print(s.lemmatize('having', pos='v'))\n",
    "print(s.lemmatize('have', pos='v'))\n",
    "print(s.lemmatize('had', pos='v'))\n",
    "\n",
    "print(s.lemmatize('fishing', pos='v'))\n",
    "print(s.lemmatize('fish', pos='v'))\n",
    "print(s.lemmatize('fisher', pos='n'))\n",
    "print(s.lemmatize('fishes', pos='v'))\n",
    "print(s.lemmatize('fished', pos='v'))\n",
    "\n",
    "print(s.lemmatize('am', pos='v'))\n",
    "print(s.lemmatize('is', pos='v'))\n",
    "print(s.lemmatize('was', pos='v'))"
   ]
  },
  {
   "cell_type": "code",
   "execution_count": null,
   "metadata": {
    "collapsed": true
   },
   "outputs": [],
   "source": []
  }
 ],
 "metadata": {
  "kernelspec": {
   "display_name": "Python 3",
   "language": "python",
   "name": "python3"
  },
  "language_info": {
   "codemirror_mode": {
    "name": "ipython",
    "version": 3
   },
   "file_extension": ".py",
   "mimetype": "text/x-python",
   "name": "python",
   "nbconvert_exporter": "python",
   "pygments_lexer": "ipython3",
   "version": "3.5.1"
  }
 },
 "nbformat": 4,
 "nbformat_minor": 0
}
