{
 "cells": [
  {
   "cell_type": "code",
   "execution_count": 1,
   "metadata": {
    "collapsed": true
   },
   "outputs": [],
   "source": [
    "from fuzzywuzzy import fuzz\n",
    "from fuzzywuzzy import process"
   ]
  },
  {
   "cell_type": "code",
   "execution_count": 2,
   "metadata": {},
   "outputs": [
    {
     "data": {
      "text/plain": [
       "[('Chicken Salad', 90), ('Plain Salad', 90)]"
      ]
     },
     "execution_count": 2,
     "metadata": {},
     "output_type": "execute_result"
    }
   ],
   "source": [
    "choices = [\"Pepperoni Pizza\",\"Cheese Pizza\",\"Chicken Salad\", \"Plain Salad\"]\n",
    "process.extract(\"salad\",choices,limit=2)\n"
   ]
  },
  {
   "cell_type": "code",
   "execution_count": 29,
   "metadata": {
    "collapsed": true
   },
   "outputs": [],
   "source": [
    "choices = [\"Nike Trainer Sneaker Colour Red and White women size 6\",\n",
    "          \"Adidas Shoes women size 7 8 9 10 colour blue\",\n",
    "           \"MAC lipstic red matte\",\n",
    "          \"GAP Top women size 4 6 7 8 colour yellow\",\n",
    "          \"GAP sweater men colour gray top size 10\",\n",
    "          \"YSL foundation matte SPF 10 Makeup Skin\",\n",
    "           \"MAC foundation matte SPF 20 Makeup Skin bright\",\n",
    "          \"Apple MacPro 13' laptop\",\n",
    "          \"Apple MacAir 11' laptop\",\n",
    "           \"YSL lipstick satin 52 13 430\",\n",
    "           \"MAC coat women size 4 6 8 10 12 colour brown\",\n",
    "           \"Coast wool coat women size 4 6 8 10 12 14 colour orange \",\n",
    "           \"Big Tomato Company Giddy Aunt Mug Mug\"\n",
    "          ]"
   ]
  },
  {
   "cell_type": "code",
   "execution_count": 30,
   "metadata": {},
   "outputs": [
    {
     "data": {
      "text/plain": [
       "[('Big Tomato Company Giddy Aunt Mug Mug', 60),\n",
       " ('MAC lipstic red matte', 30),\n",
       " (\"Apple MacPro 13' laptop\", 30),\n",
       " (\"Apple MacAir 11' laptop\", 30),\n",
       " ('Nike Trainer Sneaker Colour Red and White women size 6', 20),\n",
       " ('Adidas Shoes women size 7 8 9 10 colour blue', 20)]"
      ]
     },
     "execution_count": 30,
     "metadata": {},
     "output_type": "execute_result"
    }
   ],
   "source": [
    "process.extract(\"mug\",choices,limit=6)"
   ]
  },
  {
   "cell_type": "code",
   "execution_count": 22,
   "metadata": {
    "collapsed": true
   },
   "outputs": [],
   "source": [
    "fuzz.partial_ratio?"
   ]
  },
  {
   "cell_type": "code",
   "execution_count": 23,
   "metadata": {},
   "outputs": [
    {
     "name": "stdout",
     "output_type": "stream",
     "text": [
      "Nike Trainer Sneaker Colour Red and White women size 6 50\n",
      "Adidas Shoes women size 7 8 9 10 colour blue 50\n",
      "MAC lipstic red matte 29\n",
      "GAP Top women size 4 6 7 8 colour yellow 50\n",
      "GAP sweater men colour gray top size 10 50\n",
      "YSL foundation matte SPF 10 Makeup Skin 36\n",
      "MAC foundation matte SPF 20 Makeup Skin bright 36\n",
      "Apple MacPro 13' laptop 36\n",
      "Apple MacAir 11' laptop 29\n",
      "YSL lipstick satin 52 13 430 29\n",
      "MAC coat women size 4 6 8 10 12 colour brown 50\n"
     ]
    }
   ],
   "source": [
    "for k in choices:\n",
    "    print(k,fuzz.partial_ratio(\"women coat MAC\",k))"
   ]
  },
  {
   "cell_type": "code",
   "execution_count": 24,
   "metadata": {},
   "outputs": [
    {
     "name": "stdout",
     "output_type": "stream",
     "text": [
      "Nike Trainer Sneaker Colour Red and White women size 6 100\n",
      "Adidas Shoes women size 7 8 9 10 colour blue 100\n",
      "MAC lipstic red matte 100\n",
      "GAP Top women size 4 6 7 8 colour yellow 100\n",
      "GAP sweater men colour gray top size 10 50\n",
      "YSL foundation matte SPF 10 Makeup Skin 43\n",
      "MAC foundation matte SPF 20 Makeup Skin bright 100\n",
      "Apple MacPro 13' laptop 50\n",
      "Apple MacAir 11' laptop 43\n",
      "YSL lipstick satin 52 13 430 29\n",
      "MAC coat women size 4 6 8 10 12 colour brown 100\n"
     ]
    }
   ],
   "source": [
    "for k in choices:\n",
    "    print(k,fuzz.partial_token_set_ratio(\"women coat MAC\",k))"
   ]
  },
  {
   "cell_type": "code",
   "execution_count": 25,
   "metadata": {},
   "outputs": [
    {
     "name": "stdout",
     "output_type": "stream",
     "text": [
      "Nike Trainer Sneaker Colour Red and White women size 6 50\n",
      "Adidas Shoes women size 7 8 9 10 colour blue 57\n",
      "MAC lipstic red matte 57\n",
      "GAP Top women size 4 6 7 8 colour yellow 50\n",
      "GAP sweater men colour gray top size 10 50\n",
      "YSL foundation matte SPF 10 Makeup Skin 43\n",
      "MAC foundation matte SPF 20 Makeup Skin bright 57\n",
      "Apple MacPro 13' laptop 50\n",
      "Apple MacAir 11' laptop 43\n",
      "YSL lipstick satin 52 13 430 29\n",
      "MAC coat women size 4 6 8 10 12 colour brown 64\n"
     ]
    }
   ],
   "source": [
    "for k in choices:\n",
    "    print(k,fuzz.partial_token_sort_ratio(\"women coat MAC\",k))"
   ]
  },
  {
   "cell_type": "code",
   "execution_count": 26,
   "metadata": {
    "scrolled": true
   },
   "outputs": [
    {
     "name": "stdout",
     "output_type": "stream",
     "text": [
      "Nike Trainer Sneaker Colour Red and White women size 6 21\n",
      "Adidas Shoes women size 7 8 9 10 colour blue 31\n",
      "MAC lipstic red matte 23\n",
      "GAP Top women size 4 6 7 8 colour yellow 33\n",
      "GAP sweater men colour gray top size 10 38\n",
      "YSL foundation matte SPF 10 Makeup Skin 26\n",
      "MAC foundation matte SPF 20 Makeup Skin bright 23\n",
      "Apple MacPro 13' laptop 32\n",
      "Apple MacAir 11' laptop 27\n",
      "YSL lipstick satin 52 13 430 24\n",
      "MAC coat women size 4 6 8 10 12 colour brown 31\n"
     ]
    }
   ],
   "source": [
    "for k in choices:\n",
    "    print(k,fuzz.ratio(\"women coat MAC\",k))"
   ]
  },
  {
   "cell_type": "code",
   "execution_count": 27,
   "metadata": {},
   "outputs": [
    {
     "name": "stdout",
     "output_type": "stream",
     "text": [
      "Nike Trainer Sneaker Colour Red and White women size 6 26\n",
      "Adidas Shoes women size 7 8 9 10 colour blue 31\n",
      "MAC lipstic red matte 34\n",
      "GAP Top women size 4 6 7 8 colour yellow 33\n",
      "GAP sweater men colour gray top size 10 38\n",
      "YSL foundation matte SPF 10 Makeup Skin 30\n",
      "MAC foundation matte SPF 20 Makeup Skin bright 27\n",
      "Apple MacPro 13' laptop 32\n",
      "Apple MacAir 11' laptop 32\n",
      "YSL lipstick satin 52 13 430 24\n",
      "MAC coat women size 4 6 8 10 12 colour brown 31\n"
     ]
    }
   ],
   "source": [
    "for k in choices:\n",
    "    print(k,fuzz.QRatio(\"women coat MAC\",k))"
   ]
  },
  {
   "cell_type": "code",
   "execution_count": 29,
   "metadata": {
    "scrolled": true
   },
   "outputs": [
    {
     "name": "stdout",
     "output_type": "stream",
     "text": [
      "Nike Trainer Sneaker Colour Red and White women size 6 86\n",
      "Adidas Shoes women size 7 8 9 10 colour blue 86\n",
      "MAC lipstic red matte 86\n",
      "GAP Top women size 4 6 7 8 colour yellow 86\n",
      "GAP sweater men colour gray top size 10 45\n",
      "YSL foundation matte SPF 10 Makeup Skin 45\n",
      "MAC foundation matte SPF 20 Makeup Skin bright 86\n",
      "Apple MacPro 13' laptop 43\n",
      "Apple MacAir 11' laptop 37\n",
      "YSL lipstick satin 52 13 430 26\n",
      "MAC coat women size 4 6 8 10 12 colour brown 86\n"
     ]
    }
   ],
   "source": [
    "for k in choices:\n",
    "    print(k,fuzz.WRatio(\"women coat MAC\",k))"
   ]
  },
  {
   "cell_type": "code",
   "execution_count": 30,
   "metadata": {},
   "outputs": [
    {
     "name": "stdout",
     "output_type": "stream",
     "text": [
      "Nike Trainer Sneaker Colour Red and White women size 6 53\n",
      "Adidas Shoes women size 7 8 9 10 colour blue 53\n",
      "MAC lipstic red matte 51\n",
      "GAP Top women size 4 6 7 8 colour yellow 53\n",
      "GAP sweater men colour gray top size 10 34\n",
      "YSL foundation matte SPF 10 Makeup Skin 38\n",
      "MAC foundation matte SPF 20 Makeup Skin bright 37\n",
      "Apple MacPro 13' laptop 39\n",
      "Apple MacAir 11' laptop 33\n",
      "YSL lipstick satin 52 13 430 19\n",
      "MAC coat women size 4 6 8 10 12 colour brown 100\n"
     ]
    }
   ],
   "source": [
    "for k in choices:\n",
    "    print(k,fuzz.token_set_ratio(\"women coat MAC\",k))"
   ]
  },
  {
   "cell_type": "code",
   "execution_count": 31,
   "metadata": {},
   "outputs": [
    {
     "name": "stdout",
     "output_type": "stream",
     "text": [
      "Nike Trainer Sneaker Colour Red and White women size 6 32\n",
      "Adidas Shoes women size 7 8 9 10 colour blue 31\n",
      "MAC lipstic red matte 46\n",
      "GAP Top women size 4 6 7 8 colour yellow 37\n",
      "GAP sweater men colour gray top size 10 34\n",
      "YSL foundation matte SPF 10 Makeup Skin 38\n",
      "MAC foundation matte SPF 20 Makeup Skin bright 37\n",
      "Apple MacPro 13' laptop 39\n",
      "Apple MacAir 11' laptop 33\n",
      "YSL lipstick satin 52 13 430 19\n",
      "MAC coat women size 4 6 8 10 12 colour brown 48\n"
     ]
    }
   ],
   "source": [
    "for k in choices:\n",
    "    print(k,fuzz.token_sort_ratio(\"women coat MAC\",k))"
   ]
  },
  {
   "cell_type": "code",
   "execution_count": 34,
   "metadata": {},
   "outputs": [
    {
     "name": "stdout",
     "output_type": "stream",
     "text": [
      "Nike Trainer Sneaker Colour Red and White women size 6 26\n",
      "Adidas Shoes women size 7 8 9 10 colour blue 31\n",
      "MAC lipstic red matte 34\n",
      "GAP Top women size 4 6 7 8 colour yellow 33\n",
      "GAP sweater men colour gray top size 10 38\n",
      "YSL foundation matte SPF 10 Makeup Skin 30\n",
      "MAC foundation matte SPF 20 Makeup Skin bright 27\n",
      "Apple MacPro 13' laptop 32\n",
      "Apple MacAir 11' laptop 32\n",
      "YSL lipstick satin 52 13 430 24\n",
      "MAC coat women size 4 6 8 10 12 colour brown 31\n"
     ]
    }
   ],
   "source": [
    "for k in choices:\n",
    "    print(k,fuzz.UQRatio(\"women coat MAC\",k))"
   ]
  },
  {
   "cell_type": "code",
   "execution_count": 36,
   "metadata": {
    "scrolled": true
   },
   "outputs": [
    {
     "name": "stdout",
     "output_type": "stream",
     "text": [
      "Nike Trainer Sneaker Colour Red and White women size 6 86\n",
      "Adidas Shoes women size 7 8 9 10 colour blue 86\n",
      "MAC lipstic red matte 86\n",
      "GAP Top women size 4 6 7 8 colour yellow 86\n",
      "GAP sweater men colour gray top size 10 45\n",
      "YSL foundation matte SPF 10 Makeup Skin 45\n",
      "MAC foundation matte SPF 20 Makeup Skin bright 86\n",
      "Apple MacPro 13' laptop 43\n",
      "Apple MacAir 11' laptop 37\n",
      "YSL lipstick satin 52 13 430 26\n",
      "MAC coat women size 4 6 8 10 12 colour brown 86\n"
     ]
    }
   ],
   "source": [
    "for k in choices:\n",
    "    print(k,fuzz.UWRatio(\"women coat MAC\",k))"
   ]
  },
  {
   "cell_type": "code",
   "execution_count": 43,
   "metadata": {},
   "outputs": [
    {
     "data": {
      "text/plain": [
       "[('Nike Trainer Sneaker Colour Red and White women size 6', 86),\n",
       " ('Adidas Shoes women size 7 8 9 10 colour blue', 86),\n",
       " ('MAC lipstic red matte', 86),\n",
       " ('GAP Top women size 4 6 7 8 colour yellow', 86),\n",
       " ('MAC foundation matte SPF 20 Makeup Skin bright', 86)]"
      ]
     },
     "execution_count": 43,
     "metadata": {},
     "output_type": "execute_result"
    }
   ],
   "source": [
    "process.extractBests(\"women coat MAC\",choices)"
   ]
  },
  {
   "cell_type": "code",
   "execution_count": 52,
   "metadata": {
    "collapsed": true
   },
   "outputs": [],
   "source": []
  },
  {
   "cell_type": "code",
   "execution_count": 2,
   "metadata": {
    "collapsed": true
   },
   "outputs": [],
   "source": [
    "brands = [\"Alex\",\"Coast\",\"CK\",\"MAC\",\"Micheal Korr\",\"John Lewis\",\"Dior\",\n",
    "          \"Gucci\",\"LG\",\"NVDIA\",\"Russel Hobbs\",\"TOMS\",\"YSL\",\"Celvin Klein\"]"
   ]
  },
  {
   "cell_type": "code",
   "execution_count": 18,
   "metadata": {},
   "outputs": [
    {
     "data": {
      "text/plain": [
       "[('Celvin Klein', 87),\n",
       " ('Alex', 45),\n",
       " ('CK', 45),\n",
       " ('LG', 45),\n",
       " ('Micheal Korr', 43)]"
      ]
     },
     "execution_count": 18,
     "metadata": {},
     "output_type": "execute_result"
    }
   ],
   "source": [
    "process.extract(\"calvin klin\",brands)"
   ]
  },
  {
   "cell_type": "code",
   "execution_count": 54,
   "metadata": {},
   "outputs": [
    {
     "data": {
      "text/plain": [
       "[(\"Women's Dress\", 62),\n",
       " ('Greeting Card', 54),\n",
       " ('Earring', 51),\n",
       " (\"Men's Trousers\", 44),\n",
       " (\"Men's Shirt\", 42)]"
      ]
     },
     "execution_count": 54,
     "metadata": {},
     "output_type": "execute_result"
    }
   ],
   "source": [
    "types = [\"Women's Top\",\"Women's Dress\",\"Women's Shoes\",\"Handbag\",\n",
    "        \"Greeting Card\",\"Men's Shirt\",\"Wall Art\",\"Earring\",\n",
    "         \"laptop computer\",\"Necklace\",\"Sunglasses\",\"Purse\",\"Book\",\n",
    "        \"Women's Trousers\",\"Men's Trousers\",\"Boy's Top\",\"Girl's Top\"]\n",
    "process.extract(\"eveningdress\",types)"
   ]
  },
  {
   "cell_type": "code",
   "execution_count": 70,
   "metadata": {},
   "outputs": [
    {
     "data": {
      "text/plain": [
       "[('jigsaw', 90),\n",
       " ('jigsaw puzzle', 67),\n",
       " (\"women's coat\", 58),\n",
       " ('tiger', 51),\n",
       " ('boy', 30)]"
      ]
     },
     "execution_count": 70,
     "metadata": {},
     "output_type": "execute_result"
    }
   ],
   "source": [
    "a = [\"women's coat\",\"jigsaw puzzle\",\"jigsaw\"]\n",
    "b = \"jigsaw coat\"\n",
    "process.extract(b,a)"
   ]
  },
  {
   "cell_type": "code",
   "execution_count": 78,
   "metadata": {
    "scrolled": true
   },
   "outputs": [
    {
     "data": {
      "text/plain": [
       "[('jigsaw puzzle', 64),\n",
       " (\"women's dress\", 61),\n",
       " (\"women's pants\", 32),\n",
       " (\"women's top\", 26)]"
      ]
     },
     "execution_count": 78,
     "metadata": {},
     "output_type": "execute_result"
    }
   ],
   "source": [
    "q = \"jigsaw dress\"\n",
    "br = [\"jigsaw\",\"coast\"]\n",
    "ty = [\"women's dress\",\"women's pants\",\"women's top\",\"jigsaw puzzle\"]\n",
    "process.extract(q,ty)"
   ]
  },
  {
   "cell_type": "code",
   "execution_count": 89,
   "metadata": {},
   "outputs": [
    {
     "name": "stdout",
     "output_type": "stream",
     "text": [
      "88\n",
      "88\n",
      "100\n",
      "100\n"
     ]
    }
   ],
   "source": [
    "choices = [\"Warehouse smart T-shirt, short sleeve, colour: yellow, white, blue, size: 6 8 10 12\",\n",
    "          \" Warehouse smart T-shirt, long sleeve, colour: red, white, size 6 10 14\",\n",
    "          \"Warehouse T-shirt, long sleeve, colour: red, blue black, size 4 10 12\",\n",
    "          \"Coast T-shirt, long sleeve, colour: black, blue, black, white, size 4 6 8 10\"]\n",
    "\n",
    "for k in range(len(choices)):\n",
    "    print(fuzz.token_set_ratio(\"blue long sleeve T-shirt\",choices[k]))"
   ]
  },
  {
   "cell_type": "code",
   "execution_count": 90,
   "metadata": {
    "collapsed": true
   },
   "outputs": [],
   "source": [
    "import fuzzy"
   ]
  },
  {
   "cell_type": "code",
   "execution_count": 97,
   "metadata": {
    "collapsed": true
   },
   "outputs": [],
   "source": [
    "import fuzzyset"
   ]
  },
  {
   "cell_type": "code",
   "execution_count": 102,
   "metadata": {
    "collapsed": true
   },
   "outputs": [],
   "source": [
    "fuzzyset.Levenshtein.distance?\n"
   ]
  },
  {
   "cell_type": "code",
   "execution_count": 103,
   "metadata": {},
   "outputs": [
    {
     "data": {
      "text/plain": [
       "False"
      ]
     },
     "execution_count": 103,
     "metadata": {},
     "output_type": "execute_result"
    }
   ],
   "source": [
    "'estee lauder' in 'estee launder eye'"
   ]
  },
  {
   "cell_type": "code",
   "execution_count": 104,
   "metadata": {
    "collapsed": true
   },
   "outputs": [],
   "source": [
    "import re"
   ]
  },
  {
   "cell_type": "code",
   "execution_count": 107,
   "metadata": {
    "collapsed": true
   },
   "outputs": [],
   "source": [
    "result = re.match('estee lauder', 'estee launder eye')"
   ]
  },
  {
   "cell_type": "code",
   "execution_count": 108,
   "metadata": {},
   "outputs": [
    {
     "name": "stdout",
     "output_type": "stream",
     "text": [
      "None\n"
     ]
    }
   ],
   "source": [
    "print(result)"
   ]
  },
  {
   "cell_type": "code",
   "execution_count": 109,
   "metadata": {},
   "outputs": [
    {
     "data": {
      "text/plain": [
       "<_sre.SRE_Match object; span=(0, 12), match='estee lauder'>"
      ]
     },
     "execution_count": 109,
     "metadata": {},
     "output_type": "execute_result"
    }
   ],
   "source": [
    "pattern = re.compile('estee lauder')\n",
    "pattern.search('estee lauder eye')"
   ]
  },
  {
   "cell_type": "code",
   "execution_count": 119,
   "metadata": {},
   "outputs": [
    {
     "ename": "TypeError",
     "evalue": "'_sre.SRE_Pattern' object is not callable",
     "output_type": "error",
     "traceback": [
      "\u001b[0;31m---------------------------------------------------------------------------\u001b[0m",
      "\u001b[0;31mTypeError\u001b[0m                                 Traceback (most recent call last)",
      "\u001b[0;32m<ipython-input-119-fdc693d12c0a>\u001b[0m in \u001b[0;36m<module>\u001b[0;34m()\u001b[0m\n\u001b[0;32m----> 1\u001b[0;31m \u001b[0mprint\u001b[0m\u001b[0;34m(\u001b[0m\u001b[0mpattern\u001b[0m\u001b[0;34m.\u001b[0m\u001b[0msearch\u001b[0m\u001b[0;34m(\u001b[0m\u001b[0;34m'estee lauder eye'\u001b[0m\u001b[0;34m)\u001b[0m\u001b[0;34m.\u001b[0m\u001b[0mre\u001b[0m\u001b[0;34m(\u001b[0m\u001b[0;34m)\u001b[0m\u001b[0;34m)\u001b[0m\u001b[0;34m\u001b[0m\u001b[0m\n\u001b[0m",
      "\u001b[0;31mTypeError\u001b[0m: '_sre.SRE_Pattern' object is not callable"
     ]
    }
   ],
   "source": [
    "print(pattern.search('estee lauder eye').re())"
   ]
  },
  {
   "cell_type": "code",
   "execution_count": 213,
   "metadata": {},
   "outputs": [
    {
     "data": {
      "text/plain": [
       "[(\"Women's Dress\", 100), (\"Girl's Dress\", 100)]"
      ]
     },
     "execution_count": 213,
     "metadata": {},
     "output_type": "execute_result"
    }
   ],
   "source": [
    "choices = [\"Women's Top\"\n",
    "    \"Women's Outerwear Coat\",\n",
    " \"Women's Trousers\",\n",
    " \"Women's Dress\",\n",
    " \"Women's Shirt or Blouse\",\n",
    " \"Women's Outerwear Mac\",\n",
    " \"Women's Pyjamas\",\n",
    " \"Women's Pyjama Top\",\n",
    " \"Women's Swim Top\",\n",
    " \"Women's Top\",\n",
    " \"Women's Nightshirt\",\n",
    " \"Women's Cardigan\",\n",
    " 'Vest or Camisole',\n",
    " \"Women's Nightdress\",\n",
    " \"Women's Jacket\",\n",
    " \"Women's Swimwear\",\n",
    " \"Women's Outerwear Jacket\",\n",
    " \"Women's Dressing Gown\",\n",
    " \"Women's Swim Bottoms\",\n",
    " \"Women's Knitwear\",\n",
    " \"Women's Pyjama Bottoms\",\n",
    " 'Customer Special Order',\n",
    " \"Women's Skirt\",\n",
    " \"Women's Sandals\",\n",
    " \"Women's Briefs\",\n",
    " \"Women's Gilet\",\n",
    " \"Women's Jumper\",\n",
    " 'Shawl or Wrap',\n",
    " 'Bag',\n",
    " \"Women's Shorts\",\n",
    " 'PRODUCT',\n",
    " \"Women's Scarf\",\n",
    " 'Sarong',\n",
    " \"Women's Jumpsuit\",\n",
    " 'Belt',\n",
    " 'Leggings',\n",
    " 'Slip or Petticoat',\n",
    " 'Kaftan',\n",
    " \"Women's Hat\",\n",
    " \"Women's Tights\",\n",
    " 'Poncho or Cape',\n",
    " 'Waistcoat',\n",
    " \"Women's Outerwear Trouser\",\n",
    " 'Fascinator',\n",
    " 'Handbag',\n",
    " 'Purse',\n",
    " 'Wallet',\n",
    " \"Women's Socks\",\n",
    " 'Gloves',\n",
    " \"Girl's Dress\",\n",
    " \"Boy's Swimwear\",\n",
    " \"Men's Waistcoat\",\n",
    " 'Bustier or Body',\n",
    " 'Bags, Wallets & Accessories',\n",
    " \"Women's Nightwear\",\n",
    " 'Necklace',\n",
    " 'Makeup Bag',\n",
    " \"Girl's Socks\",\n",
    " \"Women's Hosiery\",\n",
    " 'Casual Hat',\n",
    " \"Men's Knitwear\",\n",
    " 'Hair Accessory',\n",
    " 'Occasion Hat',\n",
    " \"Women's Shoes\",\n",
    " 'Carry Bag',\n",
    " 'Media Storage Case',\n",
    " \"Women's Clothing\",\n",
    " 'Toiletries Bag',\n",
    " \"Women's Clothes\",\n",
    " 'Clothing & Accessories',\n",
    " \"Women's Leggings\",\n",
    " \"Women's Accessories\",\n",
    " 'Diffuser',\n",
    " 'Candle',\n",
    " 'Towel',\n",
    " 'Card Holder',\n",
    " 'Travel Document Holder',\n",
    " 'Bracelet or Bangle',\n",
    " 'Brooch',\n",
    " \"Children's Scarf\",\n",
    " 'Clothing Accessories',\n",
    " 'Apron Or Overall',\n",
    " 'Keyring',\n",
    " 'Home Fragrance',\n",
    " 'Wall Art',\n",
    " 'Mobile Phone Accessory',\n",
    " 'Running Accessory',\n",
    " 'Facial Treatment',\n",
    " 'Facial Mask or Treatment',\n",
    " \"Women's Slippers\",\n",
    " 'Book',\n",
    " 'Mug',\n",
    " 'Gift Set',\n",
    " 'Bra',\n",
    " 'Hot Water Bottle',\n",
    " 'Ring',\n",
    " 'Notebook or Notepad',\n",
    " 'Umbrella',\n",
    " 'Earrings',\n",
    " 'Hot Water Bottle or Heated Pad',\n",
    " 'Christmas Stocking',\n",
    " \"Men's Scarf\",\n",
    " \"Men's Top\",\n",
    " 'Motif or Applique Trimming',\n",
    " 'Schoolwear'\n",
    "          ]\n",
    "\n",
    "query = 'evening dress'\n",
    "\n",
    "process.extractBests(query,choices,limit = 10, scorer = fuzz.partial_token_set_ratio, \n",
    "               processor = lambda x:x, score_cutoff = 80)"
   ]
  },
  {
   "cell_type": "code",
   "execution_count": 138,
   "metadata": {
    "collapsed": true
   },
   "outputs": [],
   "source": [
    "process.extractBests?"
   ]
  },
  {
   "cell_type": "code",
   "execution_count": null,
   "metadata": {
    "collapsed": true
   },
   "outputs": [],
   "source": []
  }
 ],
 "metadata": {
  "kernelspec": {
   "display_name": "Python [conda env:Python3]",
   "language": "python",
   "name": "conda-env-Python3-py"
  },
  "language_info": {
   "codemirror_mode": {
    "name": "ipython",
    "version": 3
   },
   "file_extension": ".py",
   "mimetype": "text/x-python",
   "name": "python",
   "nbconvert_exporter": "python",
   "pygments_lexer": "ipython3",
   "version": "3.6.1"
  }
 },
 "nbformat": 4,
 "nbformat_minor": 2
}
